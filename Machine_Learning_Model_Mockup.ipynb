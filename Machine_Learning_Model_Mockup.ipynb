{
 "cells": [
  {
   "cell_type": "markdown",
   "metadata": {},
   "source": [
    "# Machine Learning Model Mockup"
   ]
  },
  {
   "cell_type": "code",
   "execution_count": 1,
   "metadata": {},
   "outputs": [],
   "source": [
    "import warnings\n",
    "warnings.filterwarnings('ignore')"
   ]
  },
  {
   "cell_type": "code",
   "execution_count": 2,
   "metadata": {},
   "outputs": [],
   "source": [
    "# Initial imports\n",
    "import pandas as pd\n",
    "import numpy as np\n",
    "from pathlib import Path\n",
    "from collections import Counter\n",
    "import matplotlib.pyplot as plt"
   ]
  },
  {
   "cell_type": "code",
   "execution_count": 3,
   "metadata": {},
   "outputs": [],
   "source": [
    "from sklearn.model_selection import train_test_split\n",
    "from sklearn.linear_model import LinearRegression"
   ]
  },
  {
   "cell_type": "code",
   "execution_count": 4,
   "metadata": {},
   "outputs": [],
   "source": [
    "from sklearn.metrics import balanced_accuracy_score\n",
    "from sklearn.metrics import confusion_matrix\n",
    "from imblearn.metrics import classification_report_imbalanced\n",
    "from sklearn.metrics import plot_confusion_matrix"
   ]
  },
  {
   "cell_type": "code",
   "execution_count": null,
   "metadata": {},
   "outputs": [],
   "source": [
    "# Load the data\n",
    "file_path = 'Resources/fatal_encounters_dot_org.csv'\n",
    "fatal_df = pd.read_csv(file_path).set_index('Unique ID')\n",
    "fatal_df.head()"
   ]
  },
  {
   "cell_type": "markdown",
   "metadata": {},
   "source": [
    "## Preprocess Data"
   ]
  },
  {
   "cell_type": "code",
   "execution_count": null,
   "metadata": {},
   "outputs": [],
   "source": [
    "# Rename DataFrame columns\n",
    "fatal_df.columns = ['Subject_Name', 'Subject_Age', 'Subject_Gender','Subject_Race', 'Subject_Race_with_Imputations',\n",
    "                    'Imputation_Probability', 'Image_of_Deceased_URL', 'Date_of_Injury_Resulting_in_Death(M/D/Y)', \n",
    "                    'Address_of_Injury', 'City_of_Death','State_of_Death', 'Zip_Code_of_Death', 'County_of_Death', \n",
    "                    'Full_Address', 'Latitude', 'Longitude', 'Agency_Responsible_for_Death', 'Cause_of_Death',\n",
    "                    'Circumstances_Surrounding_Death', 'Dispositions_and_Exclusions', 'Intentional_Use_of_Force',\n",
    "                    'Links_to_Media', 'Symptoms_of_Mental_Illness', 'Video', 'Date_and_Description', 'Unique_ID',\n",
    "                    'Unique_Identifier', 'Year']\n",
    "fatal_df.head(5)"
   ]
  },
  {
   "cell_type": "code",
   "execution_count": null,
   "metadata": {},
   "outputs": [],
   "source": [
    "# Get column data types\n",
    "fatal_df.dtypes"
   ]
  },
  {
   "cell_type": "code",
   "execution_count": null,
   "metadata": {},
   "outputs": [],
   "source": [
    "# Drop unneeded columns\n",
    "fatal_df.drop(columns = ['Image_of_Deceased_URL', 'Circumstances_Surrounding_Death', 'Dispositions_and_Exclusions',\n",
    "                        'Links_to_Media', 'Video', 'Date_and_Description', 'Unique_ID', 'Unique_Identifier'],\n",
    "             inplace = True)\n",
    "fatal_df.head(5)"
   ]
  },
  {
   "cell_type": "code",
   "execution_count": null,
   "metadata": {},
   "outputs": [],
   "source": [
    "# Find null values\n",
    "for column in fatal_df.columns:\n",
    "    print(f'Column {column} has {fatal_df[column].isnull().sum()} null values')"
   ]
  },
  {
   "cell_type": "code",
   "execution_count": null,
   "metadata": {},
   "outputs": [],
   "source": [
    "# Remove rows that have null values\n",
    "fatal_df = fatal_df.dropna()\n",
    "fatal_df"
   ]
  },
  {
   "cell_type": "code",
   "execution_count": null,
   "metadata": {},
   "outputs": [],
   "source": []
  }
 ],
 "metadata": {
  "kernelspec": {
   "display_name": "mlenv",
   "language": "python",
   "name": "mlenv"
  },
  "language_info": {
   "codemirror_mode": {
    "name": "ipython",
    "version": 3
   },
   "file_extension": ".py",
   "mimetype": "text/x-python",
   "name": "python",
   "nbconvert_exporter": "python",
   "pygments_lexer": "ipython3",
   "version": "3.7.9"
  }
 },
 "nbformat": 4,
 "nbformat_minor": 4
}
